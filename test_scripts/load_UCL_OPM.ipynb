{
 "cells": [
  {
   "cell_type": "code",
   "execution_count": null,
   "metadata": {},
   "outputs": [],
   "source": [
    "def load_UCL_OPM(raw_name, chan_name, json_file, pos_file):\n",
    "    # Import the necessary packages\n",
    "    import numpy as np\n",
    "    import matplotlib.pyplot as plt\n",
    "    import mne\n",
    "    import pandas as pd\n",
    "    import json\n",
    "\n",
    "    # Load 1D data from .bin file\n",
    "    d = np.fromfile(raw_name,'>f4')\n",
    "    \n",
    "    print('Data loaded as: ' + str(d.dtype))\n",
    "    \n",
    "    # Load tsv channels file\n",
    "    tsv = pd.read_csv(chan_name,sep='\\t')\n",
    "    \n",
    "    # Replace the channel types with a\n",
    "    tsv['type'] = tsv['type'].replace('MEGMAG','mag')\n",
    "    tsv['type'] = tsv['type'].replace('TRIG','stim')\n",
    "    tsv['type'] = tsv['type'].replace('REF','ref_meg')\n",
    "    \n",
    "    # Replace Flux channels with misc\n",
    "    tsv.loc[tsv.name.str.contains('Flux'), 'type'] = 'misc'\n",
    "    \n",
    "    # Put these into a list\n",
    "    chans = tsv['name'].values.tolist()\n",
    "    types = tsv['type'].values.tolist()\n",
    "    \n",
    "    # Open the _meg.json and extract the sampling freq\n",
    "    with open(chan_json) as json_file:\n",
    "        json_meg = json.load(json_file)\n",
    "\n",
    "    Fs = json_meg['SamplingFrequency']\n",
    "    \n",
    "    # Make a montage\n",
    "    pos_tsv = pd.read_csv(pos_file,sep='\\t')\n",
    "\n",
    "    dict = {}\n",
    "\n",
    "    for e in np.arange(0,len(pos_tsv)):\n",
    "        dict[pos_tsv.name[e]] = np.array([pos_tsv.Px[e]/1000,pos_tsv.Py[e]/1000,pos_tsv.Pz[e]/1000])\n",
    "\n",
    "    montage_opm = mne.channels.make_dig_montage(ch_pos=dict,coord_frame='mri')\n",
    "    \n",
    "    # Create MNE info field\n",
    "    inf = mne.create_info(chans, Fs, ch_types = types, montage=montage_opm, verbose=None)\n",
    "    \n",
    "    # Reshape the 1D data into 2D based on the number of channels present\n",
    "    d2 = np.reshape(d, [len(chans), int(len(d)/len(chans))],'F')\n",
    "    \n",
    "    # Create raw MNE object\n",
    "    raw = mne.io.RawArray(d2, inf, first_samp=0, copy='auto', verbose=None)\n",
    "    \n",
    "    return raw\n",
    "    "
   ]
  },
  {
   "cell_type": "code",
   "execution_count": null,
   "metadata": {},
   "outputs": [],
   "source": []
  }
 ],
 "metadata": {
  "kernelspec": {
   "display_name": "Python 3",
   "language": "python",
   "name": "python3"
  },
  "language_info": {
   "codemirror_mode": {
    "name": "ipython",
    "version": 3
   },
   "file_extension": ".py",
   "mimetype": "text/x-python",
   "name": "python",
   "nbconvert_exporter": "python",
   "pygments_lexer": "ipython3",
   "version": "3.5.6"
  }
 },
 "nbformat": 4,
 "nbformat_minor": 4
}
